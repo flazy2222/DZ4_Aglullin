{
 "cells": [
  {
   "cell_type": "code",
   "execution_count": 21,
   "metadata": {},
   "outputs": [],
   "source": [
    "from kaggle_environments import make, evaluate\n",
    "import numpy as np\n",
    "import random\n",
    "import collections\n",
    "import pandas as pd\n",
    "import matplotlib.pyplot as plt\n",
    "import seaborn as sns\n",
    "import warnings\n",
    "\n",
    "# Создаем окружение для игры с заданным количеством ходов\n",
    "env = make(\"rps\", configuration={\"episodeSteps\": 100})"
   ]
  },
  {
   "cell_type": "code",
   "execution_count": 22,
   "metadata": {},
   "outputs": [
    {
     "name": "stdout",
     "output_type": "stream",
     "text": [
      "Overwriting rock_agent.py\n"
     ]
    }
   ],
   "source": [
    "%%writefile rock_agent.py\n",
    "# Пишем агентов:\n",
    "\n",
    "# 1. Агент, который всегда выбирает камень\n",
    "def rock_agent(observation, configuration):\n",
    "    \"\"\"\n",
    "    Агент, который всегда выбирает камень (0).\n",
    "    \"\"\"\n",
    "    return 0"
   ]
  },
  {
   "cell_type": "code",
   "execution_count": 23,
   "metadata": {},
   "outputs": [
    {
     "name": "stdout",
     "output_type": "stream",
     "text": [
      "Overwriting paper_agent.py\n"
     ]
    }
   ],
   "source": [
    "%%writefile paper_agent.py\n",
    "# 2. Агент, который всегда выбирает бумагу\n",
    "def paper_agent(observation, configuration):\n",
    "    \"\"\"\n",
    "    Агент, который всегда выбирает бумагу (1).\n",
    "    \"\"\"\n",
    "    return 1"
   ]
  },
  {
   "cell_type": "code",
   "execution_count": 24,
   "metadata": {},
   "outputs": [
    {
     "name": "stdout",
     "output_type": "stream",
     "text": [
      "Overwriting scissors_agent.py\n"
     ]
    }
   ],
   "source": [
    "%%writefile scissors_agent.py\n",
    "# 3. Агент, который всегда выбирает ножницы\n",
    "def scissors_agent(observation, configuration):\n",
    "    \"\"\"\n",
    "    Агент, который всегда выбирает ножницы (2).\n",
    "    \"\"\"\n",
    "    return 2"
   ]
  },
  {
   "cell_type": "code",
   "execution_count": 25,
   "metadata": {},
   "outputs": [
    {
     "name": "stdout",
     "output_type": "stream",
     "text": [
      "Overwriting rock_paper_agent.py\n"
     ]
    }
   ],
   "source": [
    "%%writefile rock_paper_agent.py\n",
    "# 4. Агент, который случайно выбирает между камнем и бумагой\n",
    "import random\n",
    "\n",
    "def rock_paper_agent(observation, configuration):\n",
    "    \"\"\"\n",
    "    Случайно выбирает между камнем (0) и бумагой (1).\n",
    "    \"\"\"\n",
    "    return random.randint(0, 1)"
   ]
  },
  {
   "cell_type": "code",
   "execution_count": 26,
   "metadata": {},
   "outputs": [
    {
     "name": "stdout",
     "output_type": "stream",
     "text": [
      "Overwriting rock_paper_scissors.py\n"
     ]
    }
   ],
   "source": [
    "%%writefile rock_paper_scissors.py\n",
    "# 5. Агент, который случайно выбирает между камнем и ножницами\n",
    "import random\n",
    "\n",
    "def rock_scissors_agent(observation, configuration):\n",
    "    \"\"\"\n",
    "    Случайно выбирает между камнем (0) и ножницами (2).\n",
    "    \"\"\"\n",
    "    return random.choice([0, 2])  # Выбор только между 0 и 2"
   ]
  },
  {
   "cell_type": "code",
   "execution_count": 27,
   "metadata": {},
   "outputs": [
    {
     "name": "stdout",
     "output_type": "stream",
     "text": [
      "Overwriting paper_scissors_agent.py\n"
     ]
    }
   ],
   "source": [
    "%%writefile paper_scissors_agent.py\n",
    "# 6. Агент, который случайно выбирает между бумагой и ножницами\n",
    "import random\n",
    "\n",
    "def paper_scissors_agent(observation, configuration):\n",
    "    \"\"\"\n",
    "    Случайно выбирает между бумагой (1) и ножницами (2).\n",
    "    \"\"\"\n",
    "    return random.randint(1, 2)"
   ]
  },
  {
   "cell_type": "code",
   "execution_count": 28,
   "metadata": {},
   "outputs": [
    {
     "name": "stdout",
     "output_type": "stream",
     "text": [
      "Overwriting rock_scissors_agent.py\n"
     ]
    }
   ],
   "source": [
    "%%writefile rock_scissors_agent.py\n",
    "# 7. Агент, который случайно выбирает между \"камнем\", \"ножницами\" и \"бумагой\"\n",
    "import random\n",
    "\n",
    "def rock_scissors_agent(observation, configuration):\n",
    "    \"\"\"\n",
    "    Случайно выбирает 'камень' (0), 'ножницы' (2) или 'бумагу' (1).\n",
    "    \"\"\"\n",
    "    return random.randint(0, 2)"
   ]
  },
  {
   "cell_type": "code",
   "execution_count": 29,
   "metadata": {},
   "outputs": [
    {
     "name": "stdout",
     "output_type": "stream",
     "text": [
      "Overwriting copy_opponent_agent.py\n"
     ]
    }
   ],
   "source": [
    "%%writefile copy_opponent_agent.py\n",
    "\n",
    "# 8. Агент, который копирует последний ход оппонента\n",
    "import random\n",
    "def copy_opponent_agent(observation, configuration):\n",
    "    \"\"\"\n",
    "    Копирует последний ход оппонента. Если ход первый, то выбирает случайно.\n",
    "    \"\"\"\n",
    "    if observation.step > 0:\n",
    "        return observation.lastOpponentAction\n",
    "    else:\n",
    "        return random.randrange(0, configuration.signs)"
   ]
  },
  {
   "cell_type": "code",
   "execution_count": 30,
   "metadata": {},
   "outputs": [
    {
     "name": "stdout",
     "output_type": "stream",
     "text": [
      "Overwriting counter_reactionary_agent.py\n"
     ]
    }
   ],
   "source": [
    "%%writefile counter_reactionary_agent.py\n",
    "# 9. Агент, который выбирает действие в зависимости от результатов последних ходов\n",
    "import random\n",
    "import math\n",
    "\n",
    "last_counter_action = None\n",
    "def get_score(left_move, right_move):\n",
    "    \"\"\"\n",
    "    Возвращает счет на основе разницы между ходами.\n",
    "    \"\"\"\n",
    "    delta = (\n",
    "        right_move - left_move\n",
    "        if (left_move + right_move) % 2 == 0\n",
    "        else left_move - right_move\n",
    "    )\n",
    "    return 0 if delta == 0 else math.copysign(1, delta)\n",
    "\n",
    "def counter_reactionary_agent(observation, configuration):\n",
    "    \"\"\"\n",
    "    Если агент выиграл, выбирает действие, чтобы противодействовать.\n",
    "    Иначе адаптируется к ходу противника.\n",
    "    \"\"\"\n",
    "    global last_counter_action\n",
    "    if observation.step == 0:\n",
    "        last_counter_action = random.randrange(0, configuration.signs)  # случайный первый ход\n",
    "    elif get_score(last_counter_action, observation.lastOpponentAction) == 1:\n",
    "        last_counter_action = (last_counter_action + 2) % configuration.signs  # если выиграл, выбирает контр-ход\n",
    "    else:\n",
    "        last_counter_action = (observation.lastOpponentAction + 1) % configuration.signs  # выбирает ход противника + 1\n",
    "\n",
    "    return last_counter_action"
   ]
  },
  {
   "cell_type": "code",
   "execution_count": 31,
   "metadata": {},
   "outputs": [
    {
     "name": "stdout",
     "output_type": "stream",
     "text": [
      "Overwriting statistical_agent.py\n"
     ]
    }
   ],
   "source": [
    "%%writefile statistical_agent.py\n",
    "# 10. Агент, который анализирует статистику ходов противника\n",
    "import random\n",
    "action_histogram = {}\n",
    "def statistical_agent(observation, configuration):\n",
    "    \"\"\"\n",
    "    Запоминает ходы противника и выбирает действие, чтобы противодействовать\n",
    "    наиболее частому ходу противника.\n",
    "    \"\"\"\n",
    "    global action_histogram\n",
    "    if observation.step == 0:\n",
    "        action_histogram = {}  # очищает историю в начале\n",
    "        return random.randint(0, 2)  # случайный ход в начале\n",
    "    \n",
    "    action = observation.lastOpponentAction\n",
    "    action_histogram[action] = action_histogram.get(action, 0) + 1  # считает ходы противника\n",
    "\n",
    "    mode_action = max(action_histogram, key=action_histogram.get)  # находит наиболее частый ход\n",
    "    return (mode_action + 1) % configuration.signs  # возвращает контр-ход"
   ]
  },
  {
   "cell_type": "code",
   "execution_count": 32,
   "metadata": {},
   "outputs": [
    {
     "name": "stdout",
     "output_type": "stream",
     "text": [
      "Overwriting Jonson_agent.py\n"
     ]
    }
   ],
   "source": [
    "%%writefile Jonson_agent.py\n",
    "#11. Агент Джонсона с анализом паттернов противника\n",
    "import numpy as np\n",
    "import collections\n",
    "def Jonson_agent(observation, configuration):\n",
    "    \"\"\"\n",
    "    Агент с анализом паттернов противника. Использует таблицу частот для предсказания.\n",
    "    \"\"\"\n",
    "    k = 2\n",
    "    global table, action_seq\n",
    "    if observation.step % 25 == 0:\n",
    "        action_seq, table = [], collections.defaultdict(lambda: [1, 1, 1])  # обновляет таблицу каждые 25 шагов\n",
    "    if len(action_seq) <= 2 * k + 1:\n",
    "        action = int(np.random.randint(3))\n",
    "        if observation.step > 0:\n",
    "            action_seq.extend([observation.lastOpponentAction, action])  # добавляет последний ход противника\n",
    "        else:\n",
    "            action_seq.append(action)\n",
    "        return action\n",
    "\n",
    "    key = ''.join([str(a) for a in action_seq[:-1]])  # ключ на основе последовательности ходов\n",
    "    table[key][observation.lastOpponentAction] += 1  # обновляет таблицу по ключу\n",
    "\n",
    "    action_seq[:-2] = action_seq[2:]\n",
    "    action_seq[-2] = observation.lastOpponentAction\n",
    "    key = ''.join([str(a) for a in action_seq[:-1]])\n",
    "    \n",
    "    if observation.step < 50:\n",
    "        next_opponent_action_pred = np.argmax(table[key])  # предсказание по таблице\n",
    "    else:\n",
    "        scores = np.array(table[key])\n",
    "        next_opponent_action_pred = np.random.choice(3, p=scores/scores.sum())\n",
    "        \n",
    "    action = (next_opponent_action_pred + 1) % 3\n",
    "    if observation.step > 90:\n",
    "        action = next_opponent_action_pred\n",
    "    action_seq[-1] = action\n",
    "    return int(action)"
   ]
  },
  {
   "cell_type": "code",
   "execution_count": 33,
   "metadata": {},
   "outputs": [
    {
     "name": "stdout",
     "output_type": "stream",
     "text": [
      "Overwriting cycle_agent.py\n"
     ]
    }
   ],
   "source": [
    "%%writefile cycle_agent.py\n",
    "import random\n",
    "\n",
    "# Агент, который выбирает действия по кругу\n",
    "def cycle_agent(observation, configuration):\n",
    "    # Действия: 0 = \"rock\", 1 = \"paper\", 2 = \"scissors\"\n",
    "    last_action = observation['lastOpponentAction'] if observation['step'] > 0 else random.randint(0, 2)\n",
    "    return (last_action + 1) % 3"
   ]
  },
  {
   "cell_type": "code",
   "execution_count": 37,
   "metadata": {},
   "outputs": [
    {
     "name": "stdout",
     "output_type": "stream",
     "text": [
      "Overwriting aggressive_agent.py\n"
     ]
    }
   ],
   "source": [
    "%%writefile aggressive_agent.py\n",
    "import random\n",
    "#13. Выбирает победное действие от последнего хода противника\n",
    "def aggressive_agent(observation, configuration):\n",
    "    # Агент выбирает действие, которое победит последнее действие противника\n",
    "    last_opponent_action = observation['lastOpponentAction'] if observation['step'] > 0 else random.choice([\"rock\", \"paper\", \"scissors\"])\n",
    "    if last_opponent_action == 0:  \n",
    "        return 0\n",
    "    elif last_opponent_action == 1:  \n",
    "        return 1\n",
    "    else:  \n",
    "        return 2"
   ]
  },
  {
   "cell_type": "code",
   "execution_count": 38,
   "metadata": {},
   "outputs": [
    {
     "name": "stdout",
     "output_type": "stream",
     "text": [
      "The winner is statistical_agent.py !\n"
     ]
    }
   ],
   "source": [
    "import numpy as np\n",
    "from kaggle_environments import evaluate\n",
    "import os\n",
    "agents = ['rock_agent', 'paper_agent', 'scissors_agent',\n",
    "          'copy_opponent_agent',  'cycle_agent',\n",
    "          'counter_reactionary_agent', 'statistical_agent',\n",
    "          'Jonson_agent', 'rock_paper_scissors',\n",
    "          'rock_paper_agent', 'paper_scissors_agent',\n",
    "          'rock_scissors_agent', 'aggressive_agent']\n",
    "\n",
    "# Добавляем .py к каждому агенту\n",
    "agents_py = [i + \".py\" for i in agents]\n",
    "n_agents = len(agents)\n",
    "\n",
    "# Проверяем существование файлов\n",
    "for agent_file in agents_py:\n",
    "    if not os.path.exists(agent_file):\n",
    "        raise FileNotFoundError(f\"Файл агента '{agent_file}' не найден.\")\n",
    "\n",
    "# Инициализируем матрицу результатов\n",
    "scores = np.zeros((n_agents, n_agents))\n",
    "\n",
    "# Играем каждый агент против каждого\n",
    "for i in range(n_agents):\n",
    "    for j in range(i + 1, n_agents):\n",
    "        result = evaluate(\"rps\", [agents_py[i], agents_py[j]], configuration={\"episodeSteps\": 100}, num_episodes=1)\n",
    "        scores[i][j] = result[0][0]  # сохраняем результат для агента i\n",
    "        scores[j][i] = result[0][1]  # сохраняем результат для агента j\n",
    "\n",
    "# Определяем победителя\n",
    "vic = []\n",
    "for i in range(n_agents):\n",
    "    cnt_vic = sum(1 for j in range(n_agents) if scores[i][j] > 0)  # считаем победы агента\n",
    "    vic.append(cnt_vic)\n",
    "\n",
    "# Определяем индексы победителей\n",
    "i_victors = [i for i, v in enumerate(vic) if v == max(vic)]\n",
    "if len(i_victors) > 1:\n",
    "    print(\"The winners are\", '\\n', *[agents_py[i] for i in i_victors], \"!\")\n",
    "else:\n",
    "    print(\"The winner is\", agents_py[i_victors[0]], \"!\")"
   ]
  },
  {
   "cell_type": "code",
   "execution_count": 39,
   "metadata": {},
   "outputs": [
    {
     "data": {
      "text/html": [
       "<div>\n",
       "<style scoped>\n",
       "    .dataframe tbody tr th:only-of-type {\n",
       "        vertical-align: middle;\n",
       "    }\n",
       "\n",
       "    .dataframe tbody tr th {\n",
       "        vertical-align: top;\n",
       "    }\n",
       "\n",
       "    .dataframe thead th {\n",
       "        text-align: right;\n",
       "    }\n",
       "</style>\n",
       "<table border=\"1\" class=\"dataframe\">\n",
       "  <thead>\n",
       "    <tr style=\"text-align: right;\">\n",
       "      <th></th>\n",
       "      <th>rock_agent</th>\n",
       "      <th>paper_agent</th>\n",
       "      <th>scissors_agent</th>\n",
       "      <th>copy_opponent_agent</th>\n",
       "      <th>cycle_agent</th>\n",
       "      <th>counter_reactionary_agent</th>\n",
       "      <th>statistical_agent</th>\n",
       "      <th>Jonson_agent</th>\n",
       "      <th>rock_paper_scissors</th>\n",
       "      <th>rock_paper_agent</th>\n",
       "      <th>paper_scissors_agent</th>\n",
       "      <th>rock_scissors_agent</th>\n",
       "      <th>aggressive_agent</th>\n",
       "    </tr>\n",
       "  </thead>\n",
       "  <tbody>\n",
       "    <tr>\n",
       "      <th>rock_agent</th>\n",
       "      <td>0.0</td>\n",
       "      <td>-99.0</td>\n",
       "      <td>99.0</td>\n",
       "      <td>0.0</td>\n",
       "      <td>-97.0</td>\n",
       "      <td>-50.0</td>\n",
       "      <td>-99.0</td>\n",
       "      <td>-52.0</td>\n",
       "      <td>43.0</td>\n",
       "      <td>-47.0</td>\n",
       "      <td>0.0</td>\n",
       "      <td>0.0</td>\n",
       "      <td>0.0</td>\n",
       "    </tr>\n",
       "    <tr>\n",
       "      <th>paper_agent</th>\n",
       "      <td>99.0</td>\n",
       "      <td>0.0</td>\n",
       "      <td>-99.0</td>\n",
       "      <td>0.0</td>\n",
       "      <td>-99.0</td>\n",
       "      <td>-49.0</td>\n",
       "      <td>-97.0</td>\n",
       "      <td>-26.0</td>\n",
       "      <td>0.0</td>\n",
       "      <td>41.0</td>\n",
       "      <td>-52.0</td>\n",
       "      <td>0.0</td>\n",
       "      <td>0.0</td>\n",
       "    </tr>\n",
       "    <tr>\n",
       "      <th>scissors_agent</th>\n",
       "      <td>-99.0</td>\n",
       "      <td>99.0</td>\n",
       "      <td>0.0</td>\n",
       "      <td>0.0</td>\n",
       "      <td>-97.0</td>\n",
       "      <td>-49.0</td>\n",
       "      <td>-97.0</td>\n",
       "      <td>-31.0</td>\n",
       "      <td>-56.0</td>\n",
       "      <td>0.0</td>\n",
       "      <td>48.0</td>\n",
       "      <td>0.0</td>\n",
       "      <td>0.0</td>\n",
       "    </tr>\n",
       "    <tr>\n",
       "      <th>copy_opponent_agent</th>\n",
       "      <td>0.0</td>\n",
       "      <td>0.0</td>\n",
       "      <td>0.0</td>\n",
       "      <td>0.0</td>\n",
       "      <td>-49.0</td>\n",
       "      <td>99.0</td>\n",
       "      <td>-21.0</td>\n",
       "      <td>0.0</td>\n",
       "      <td>0.0</td>\n",
       "      <td>0.0</td>\n",
       "      <td>0.0</td>\n",
       "      <td>0.0</td>\n",
       "      <td>0.0</td>\n",
       "    </tr>\n",
       "    <tr>\n",
       "      <th>cycle_agent</th>\n",
       "      <td>97.0</td>\n",
       "      <td>99.0</td>\n",
       "      <td>97.0</td>\n",
       "      <td>49.0</td>\n",
       "      <td>0.0</td>\n",
       "      <td>-99.0</td>\n",
       "      <td>59.0</td>\n",
       "      <td>0.0</td>\n",
       "      <td>0.0</td>\n",
       "      <td>0.0</td>\n",
       "      <td>0.0</td>\n",
       "      <td>0.0</td>\n",
       "      <td>49.0</td>\n",
       "    </tr>\n",
       "    <tr>\n",
       "      <th>counter_reactionary_agent</th>\n",
       "      <td>50.0</td>\n",
       "      <td>49.0</td>\n",
       "      <td>49.0</td>\n",
       "      <td>-99.0</td>\n",
       "      <td>99.0</td>\n",
       "      <td>0.0</td>\n",
       "      <td>0.0</td>\n",
       "      <td>0.0</td>\n",
       "      <td>0.0</td>\n",
       "      <td>0.0</td>\n",
       "      <td>0.0</td>\n",
       "      <td>0.0</td>\n",
       "      <td>-99.0</td>\n",
       "    </tr>\n",
       "    <tr>\n",
       "      <th>statistical_agent</th>\n",
       "      <td>99.0</td>\n",
       "      <td>97.0</td>\n",
       "      <td>97.0</td>\n",
       "      <td>21.0</td>\n",
       "      <td>-59.0</td>\n",
       "      <td>0.0</td>\n",
       "      <td>0.0</td>\n",
       "      <td>0.0</td>\n",
       "      <td>28.0</td>\n",
       "      <td>35.0</td>\n",
       "      <td>46.0</td>\n",
       "      <td>0.0</td>\n",
       "      <td>21.0</td>\n",
       "    </tr>\n",
       "    <tr>\n",
       "      <th>Jonson_agent</th>\n",
       "      <td>52.0</td>\n",
       "      <td>26.0</td>\n",
       "      <td>31.0</td>\n",
       "      <td>0.0</td>\n",
       "      <td>0.0</td>\n",
       "      <td>0.0</td>\n",
       "      <td>0.0</td>\n",
       "      <td>0.0</td>\n",
       "      <td>0.0</td>\n",
       "      <td>29.0</td>\n",
       "      <td>0.0</td>\n",
       "      <td>0.0</td>\n",
       "      <td>0.0</td>\n",
       "    </tr>\n",
       "    <tr>\n",
       "      <th>rock_paper_scissors</th>\n",
       "      <td>-43.0</td>\n",
       "      <td>0.0</td>\n",
       "      <td>56.0</td>\n",
       "      <td>0.0</td>\n",
       "      <td>0.0</td>\n",
       "      <td>0.0</td>\n",
       "      <td>-28.0</td>\n",
       "      <td>0.0</td>\n",
       "      <td>0.0</td>\n",
       "      <td>0.0</td>\n",
       "      <td>0.0</td>\n",
       "      <td>0.0</td>\n",
       "      <td>0.0</td>\n",
       "    </tr>\n",
       "    <tr>\n",
       "      <th>rock_paper_agent</th>\n",
       "      <td>47.0</td>\n",
       "      <td>-41.0</td>\n",
       "      <td>0.0</td>\n",
       "      <td>0.0</td>\n",
       "      <td>0.0</td>\n",
       "      <td>0.0</td>\n",
       "      <td>-35.0</td>\n",
       "      <td>-29.0</td>\n",
       "      <td>0.0</td>\n",
       "      <td>0.0</td>\n",
       "      <td>0.0</td>\n",
       "      <td>0.0</td>\n",
       "      <td>0.0</td>\n",
       "    </tr>\n",
       "    <tr>\n",
       "      <th>paper_scissors_agent</th>\n",
       "      <td>0.0</td>\n",
       "      <td>52.0</td>\n",
       "      <td>-48.0</td>\n",
       "      <td>0.0</td>\n",
       "      <td>0.0</td>\n",
       "      <td>0.0</td>\n",
       "      <td>-46.0</td>\n",
       "      <td>0.0</td>\n",
       "      <td>0.0</td>\n",
       "      <td>0.0</td>\n",
       "      <td>0.0</td>\n",
       "      <td>0.0</td>\n",
       "      <td>0.0</td>\n",
       "    </tr>\n",
       "    <tr>\n",
       "      <th>rock_scissors_agent</th>\n",
       "      <td>0.0</td>\n",
       "      <td>0.0</td>\n",
       "      <td>0.0</td>\n",
       "      <td>0.0</td>\n",
       "      <td>0.0</td>\n",
       "      <td>0.0</td>\n",
       "      <td>0.0</td>\n",
       "      <td>0.0</td>\n",
       "      <td>0.0</td>\n",
       "      <td>0.0</td>\n",
       "      <td>0.0</td>\n",
       "      <td>0.0</td>\n",
       "      <td>0.0</td>\n",
       "    </tr>\n",
       "    <tr>\n",
       "      <th>aggressive_agent</th>\n",
       "      <td>0.0</td>\n",
       "      <td>0.0</td>\n",
       "      <td>0.0</td>\n",
       "      <td>0.0</td>\n",
       "      <td>-49.0</td>\n",
       "      <td>99.0</td>\n",
       "      <td>-21.0</td>\n",
       "      <td>0.0</td>\n",
       "      <td>0.0</td>\n",
       "      <td>0.0</td>\n",
       "      <td>0.0</td>\n",
       "      <td>0.0</td>\n",
       "      <td>0.0</td>\n",
       "    </tr>\n",
       "  </tbody>\n",
       "</table>\n",
       "</div>"
      ],
      "text/plain": [
       "                           rock_agent  paper_agent  scissors_agent  \\\n",
       "rock_agent                        0.0        -99.0            99.0   \n",
       "paper_agent                      99.0          0.0           -99.0   \n",
       "scissors_agent                  -99.0         99.0             0.0   \n",
       "copy_opponent_agent               0.0          0.0             0.0   \n",
       "cycle_agent                      97.0         99.0            97.0   \n",
       "counter_reactionary_agent        50.0         49.0            49.0   \n",
       "statistical_agent                99.0         97.0            97.0   \n",
       "Jonson_agent                     52.0         26.0            31.0   \n",
       "rock_paper_scissors             -43.0          0.0            56.0   \n",
       "rock_paper_agent                 47.0        -41.0             0.0   \n",
       "paper_scissors_agent              0.0         52.0           -48.0   \n",
       "rock_scissors_agent               0.0          0.0             0.0   \n",
       "aggressive_agent                  0.0          0.0             0.0   \n",
       "\n",
       "                           copy_opponent_agent  cycle_agent  \\\n",
       "rock_agent                                 0.0        -97.0   \n",
       "paper_agent                                0.0        -99.0   \n",
       "scissors_agent                             0.0        -97.0   \n",
       "copy_opponent_agent                        0.0        -49.0   \n",
       "cycle_agent                               49.0          0.0   \n",
       "counter_reactionary_agent                -99.0         99.0   \n",
       "statistical_agent                         21.0        -59.0   \n",
       "Jonson_agent                               0.0          0.0   \n",
       "rock_paper_scissors                        0.0          0.0   \n",
       "rock_paper_agent                           0.0          0.0   \n",
       "paper_scissors_agent                       0.0          0.0   \n",
       "rock_scissors_agent                        0.0          0.0   \n",
       "aggressive_agent                           0.0        -49.0   \n",
       "\n",
       "                           counter_reactionary_agent  statistical_agent  \\\n",
       "rock_agent                                     -50.0              -99.0   \n",
       "paper_agent                                    -49.0              -97.0   \n",
       "scissors_agent                                 -49.0              -97.0   \n",
       "copy_opponent_agent                             99.0              -21.0   \n",
       "cycle_agent                                    -99.0               59.0   \n",
       "counter_reactionary_agent                        0.0                0.0   \n",
       "statistical_agent                                0.0                0.0   \n",
       "Jonson_agent                                     0.0                0.0   \n",
       "rock_paper_scissors                              0.0              -28.0   \n",
       "rock_paper_agent                                 0.0              -35.0   \n",
       "paper_scissors_agent                             0.0              -46.0   \n",
       "rock_scissors_agent                              0.0                0.0   \n",
       "aggressive_agent                                99.0              -21.0   \n",
       "\n",
       "                           Jonson_agent  rock_paper_scissors  \\\n",
       "rock_agent                        -52.0                 43.0   \n",
       "paper_agent                       -26.0                  0.0   \n",
       "scissors_agent                    -31.0                -56.0   \n",
       "copy_opponent_agent                 0.0                  0.0   \n",
       "cycle_agent                         0.0                  0.0   \n",
       "counter_reactionary_agent           0.0                  0.0   \n",
       "statistical_agent                   0.0                 28.0   \n",
       "Jonson_agent                        0.0                  0.0   \n",
       "rock_paper_scissors                 0.0                  0.0   \n",
       "rock_paper_agent                  -29.0                  0.0   \n",
       "paper_scissors_agent                0.0                  0.0   \n",
       "rock_scissors_agent                 0.0                  0.0   \n",
       "aggressive_agent                    0.0                  0.0   \n",
       "\n",
       "                           rock_paper_agent  paper_scissors_agent  \\\n",
       "rock_agent                            -47.0                   0.0   \n",
       "paper_agent                            41.0                 -52.0   \n",
       "scissors_agent                          0.0                  48.0   \n",
       "copy_opponent_agent                     0.0                   0.0   \n",
       "cycle_agent                             0.0                   0.0   \n",
       "counter_reactionary_agent               0.0                   0.0   \n",
       "statistical_agent                      35.0                  46.0   \n",
       "Jonson_agent                           29.0                   0.0   \n",
       "rock_paper_scissors                     0.0                   0.0   \n",
       "rock_paper_agent                        0.0                   0.0   \n",
       "paper_scissors_agent                    0.0                   0.0   \n",
       "rock_scissors_agent                     0.0                   0.0   \n",
       "aggressive_agent                        0.0                   0.0   \n",
       "\n",
       "                           rock_scissors_agent  aggressive_agent  \n",
       "rock_agent                                 0.0               0.0  \n",
       "paper_agent                                0.0               0.0  \n",
       "scissors_agent                             0.0               0.0  \n",
       "copy_opponent_agent                        0.0               0.0  \n",
       "cycle_agent                                0.0              49.0  \n",
       "counter_reactionary_agent                  0.0             -99.0  \n",
       "statistical_agent                          0.0              21.0  \n",
       "Jonson_agent                               0.0               0.0  \n",
       "rock_paper_scissors                        0.0               0.0  \n",
       "rock_paper_agent                           0.0               0.0  \n",
       "paper_scissors_agent                       0.0               0.0  \n",
       "rock_scissors_agent                        0.0               0.0  \n",
       "aggressive_agent                           0.0               0.0  "
      ]
     },
     "execution_count": 39,
     "metadata": {},
     "output_type": "execute_result"
    }
   ],
   "source": [
    "# Построение матрицы корреляций\n",
    "df_scores = pd.DataFrame(scores, index=agents, columns=agents)\n",
    "df_scores"
   ]
  }
 ],
 "metadata": {
  "kernelspec": {
   "display_name": "base",
   "language": "python",
   "name": "python3"
  },
  "language_info": {
   "codemirror_mode": {
    "name": "ipython",
    "version": 3
   },
   "file_extension": ".py",
   "mimetype": "text/x-python",
   "name": "python",
   "nbconvert_exporter": "python",
   "pygments_lexer": "ipython3",
   "version": "3.12.4"
  }
 },
 "nbformat": 4,
 "nbformat_minor": 2
}
